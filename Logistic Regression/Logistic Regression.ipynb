{
  "nbformat": 4,
  "nbformat_minor": 0,
  "metadata": {
    "colab": {
      "provenance": []
    },
    "kernelspec": {
      "name": "python3",
      "display_name": "Python 3"
    },
    "language_info": {
      "name": "python"
    }
  },
  "cells": [
    {
      "cell_type": "code",
      "execution_count": null,
      "metadata": {
        "id": "TjaG3WllZX3Y"
      },
      "outputs": [],
      "source": [
        "import numpy as np\n",
        "import pandas as pd\n",
        "from sklearn.model_selection import train_test_split\n",
        "from sklearn.linear_model import LogisticRegression\n",
        "from sklearn.metrics import accuracy_score\n",
        "\n",
        "import warnings\n",
        "warnings.filterwarnings('ignore')"
      ]
    },
    {
      "cell_type": "code",
      "source": [
        "# read dataset from a Google Drive File\n",
        "file_link = 'https://drive.google.com/file/d/1uLtuUvWGOSSoyGrelVKH1WBbq8NzRmSo/view?usp=sharing' # the file access must have to be Public\n",
        "id = file_link.split(\"/\")[-2]\n",
        "new_link = f'https://drive.google.com/uc?id={id}'\n",
        "print(new_link)\n",
        "df = pd.read_csv(new_link)"
      ],
      "metadata": {
        "colab": {
          "base_uri": "https://localhost:8080/"
        },
        "id": "RaayXmgNGW5f",
        "outputId": "0466b07e-8743-491c-f17d-275deb9743bf"
      },
      "execution_count": null,
      "outputs": [
        {
          "output_type": "stream",
          "name": "stdout",
          "text": [
            "https://drive.google.com/uc?id=1uLtuUvWGOSSoyGrelVKH1WBbq8NzRmSo\n"
          ]
        }
      ]
    },
    {
      "cell_type": "code",
      "source": [
        "# Explore the dataset (optional)\n",
        "print(df.head())\n",
        "print(df.info())"
      ],
      "metadata": {
        "colab": {
          "base_uri": "https://localhost:8080/"
        },
        "id": "dV0SVGCXGZs0",
        "outputId": "2f4843bd-3884-4c04-88d5-a3483300df1e"
      },
      "execution_count": null,
      "outputs": [
        {
          "output_type": "stream",
          "name": "stdout",
          "text": [
            "        ID  Clump  UnifSize  UnifShape  MargAdh  SingEpiSize BareNuc  \\\n",
            "0  1000025      5         1          1        1            2       1   \n",
            "1  1002945      5         4          4        5            7      10   \n",
            "2  1015425      3         1          1        1            2       2   \n",
            "3  1016277      6         8          8        1            3       4   \n",
            "4  1017023      4         1          1        3            2       1   \n",
            "\n",
            "   BlandChrom  NormNucl  Mit  Class  \n",
            "0           3         1    1      2  \n",
            "1           3         2    1      2  \n",
            "2           3         1    1      2  \n",
            "3           3         7    1      2  \n",
            "4           3         1    1      2  \n",
            "<class 'pandas.core.frame.DataFrame'>\n",
            "RangeIndex: 699 entries, 0 to 698\n",
            "Data columns (total 11 columns):\n",
            " #   Column       Non-Null Count  Dtype \n",
            "---  ------       --------------  ----- \n",
            " 0   ID           699 non-null    int64 \n",
            " 1   Clump        699 non-null    int64 \n",
            " 2   UnifSize     699 non-null    int64 \n",
            " 3   UnifShape    699 non-null    int64 \n",
            " 4   MargAdh      699 non-null    int64 \n",
            " 5   SingEpiSize  699 non-null    int64 \n",
            " 6   BareNuc      699 non-null    object\n",
            " 7   BlandChrom   699 non-null    int64 \n",
            " 8   NormNucl     699 non-null    int64 \n",
            " 9   Mit          699 non-null    int64 \n",
            " 10  Class        699 non-null    int64 \n",
            "dtypes: int64(10), object(1)\n",
            "memory usage: 60.2+ KB\n",
            "None\n"
          ]
        }
      ]
    },
    {
      "cell_type": "code",
      "source": [
        "#change categorical col to numerical col\n",
        "df.dtypes\n",
        "df = df[pd.to_numeric(df['BareNuc'],errors='coerce').notnull()].astype('int')\n",
        "df.dtypes"
      ],
      "metadata": {
        "colab": {
          "base_uri": "https://localhost:8080/",
          "height": 429
        },
        "id": "SULvruJkaby_",
        "outputId": "00d173ab-41bc-4673-b315-ccbae71a157a"
      },
      "execution_count": null,
      "outputs": [
        {
          "output_type": "execute_result",
          "data": {
            "text/plain": [
              "ID             int64\n",
              "Clump          int64\n",
              "UnifSize       int64\n",
              "UnifShape      int64\n",
              "MargAdh        int64\n",
              "SingEpiSize    int64\n",
              "BareNuc        int64\n",
              "BlandChrom     int64\n",
              "NormNucl       int64\n",
              "Mit            int64\n",
              "Class          int64\n",
              "dtype: object"
            ],
            "text/html": [
              "<div>\n",
              "<style scoped>\n",
              "    .dataframe tbody tr th:only-of-type {\n",
              "        vertical-align: middle;\n",
              "    }\n",
              "\n",
              "    .dataframe tbody tr th {\n",
              "        vertical-align: top;\n",
              "    }\n",
              "\n",
              "    .dataframe thead th {\n",
              "        text-align: right;\n",
              "    }\n",
              "</style>\n",
              "<table border=\"1\" class=\"dataframe\">\n",
              "  <thead>\n",
              "    <tr style=\"text-align: right;\">\n",
              "      <th></th>\n",
              "      <th>0</th>\n",
              "    </tr>\n",
              "  </thead>\n",
              "  <tbody>\n",
              "    <tr>\n",
              "      <th>ID</th>\n",
              "      <td>int64</td>\n",
              "    </tr>\n",
              "    <tr>\n",
              "      <th>Clump</th>\n",
              "      <td>int64</td>\n",
              "    </tr>\n",
              "    <tr>\n",
              "      <th>UnifSize</th>\n",
              "      <td>int64</td>\n",
              "    </tr>\n",
              "    <tr>\n",
              "      <th>UnifShape</th>\n",
              "      <td>int64</td>\n",
              "    </tr>\n",
              "    <tr>\n",
              "      <th>MargAdh</th>\n",
              "      <td>int64</td>\n",
              "    </tr>\n",
              "    <tr>\n",
              "      <th>SingEpiSize</th>\n",
              "      <td>int64</td>\n",
              "    </tr>\n",
              "    <tr>\n",
              "      <th>BareNuc</th>\n",
              "      <td>int64</td>\n",
              "    </tr>\n",
              "    <tr>\n",
              "      <th>BlandChrom</th>\n",
              "      <td>int64</td>\n",
              "    </tr>\n",
              "    <tr>\n",
              "      <th>NormNucl</th>\n",
              "      <td>int64</td>\n",
              "    </tr>\n",
              "    <tr>\n",
              "      <th>Mit</th>\n",
              "      <td>int64</td>\n",
              "    </tr>\n",
              "    <tr>\n",
              "      <th>Class</th>\n",
              "      <td>int64</td>\n",
              "    </tr>\n",
              "  </tbody>\n",
              "</table>\n",
              "</div><br><label><b>dtype:</b> object</label>"
            ]
          },
          "metadata": {},
          "execution_count": 4
        }
      ]
    },
    {
      "cell_type": "code",
      "source": [
        "X = df.iloc[:, :-1]  # all columns except the last one\n",
        "y = df.iloc[:, -1]   # the last column\n",
        "\n",
        "# Split into train and test sets\n",
        "X_train, X_test, y_train, y_test = train_test_split(X, y, test_size=0.2, random_state=42)\n",
        "\n",
        "model = LogisticRegression(max_iter=1000)\n",
        "# https://scikit-learn.org/stable/modules/generated/sklearn.linear_model.LogisticRegression.html\n",
        "model.fit(X_train, y_train)\n",
        "y_pred = model.predict(X_test)\n",
        "\n",
        "#check for accuracy\n",
        "print(\"Accuracy:\", accuracy_score(y_test, y_pred))\n",
        "#can also use classifiation_report metrics for more details"
      ],
      "metadata": {
        "colab": {
          "base_uri": "https://localhost:8080/"
        },
        "id": "iWKUOFe-aj_E",
        "outputId": "b657a4e4-7ce9-4f6d-a135-415739d5daea"
      },
      "execution_count": null,
      "outputs": [
        {
          "output_type": "stream",
          "name": "stdout",
          "text": [
            "Accuracy: 0.9635036496350365\n"
          ]
        }
      ]
    },
    {
      "cell_type": "markdown",
      "source": [
        "# **Implementing Logistic Regression from scratch**\n",
        "\n",
        "\n",
        "\n"
      ],
      "metadata": {
        "id": "dMErUfIic4W8"
      }
    },
    {
      "cell_type": "code",
      "source": [
        "X = df.drop(columns=['Class']).values\n",
        "y = df['Class'].values\n",
        "y = np.where(y == 2, 0, 1)  # Convert labels to 0 and 1 if needed (2=benign, 4=malignant)\n",
        "\n",
        "# Normalize features\n",
        "X = (X - X.mean(axis=0)) / X.std(axis=0) #axis=0 goes for a particular column\n",
        "\n",
        "# Add bias term\n",
        "# is independent feature is 0, still allows to classify.\n",
        "X = np.c_[np.ones(X.shape[0]), X]  # Add bias column (x0 = 1)\n",
        "\n",
        "# Initialize weights\n",
        "weights = np.zeros(X.shape[1])\n",
        "\n",
        "def sigmoid(z):\n",
        "    #return the expression for sigmoid function\n",
        "    return 1 / (1 + np.exp(-z))\n",
        "\n",
        "\n",
        "# Loss function (binary cross-entropy)\n",
        "def compute_loss(y, y_pred):\n",
        "    epsilon = 1e-10  # to avoid log(0)\n",
        "    # https://towardsdatascience.com/understanding-binary-cross-entropy-log-loss-a-visual-explanation-a3ac6025181a/\n",
        "    loss = -np.mean(y * np.log(y_pred + epsilon) + (1 - y) * np.log(1 - y_pred + epsilon))\n",
        "    return loss\n",
        "\n",
        "# Gradient descent\n",
        "def train(X, y, weights, lr=0.1, epochs=1000):\n",
        "    for i in range(epochs):\n",
        "        z = np.dot(X, weights)\n",
        "        # call the sigmoid function on z\n",
        "        y_pred = sigmoid(z)\n",
        "\n",
        "        # find the error by calculating the difference between y_pred and y\n",
        "        error = y_pred - y\n",
        "\n",
        "        grad = np.dot(X.T, error) / len(y)\n",
        "        # update the weights using learning rate(lr) and gradient(grad)\n",
        "        weights -= lr * grad\n",
        "\n",
        "        if i % 100 == 0:\n",
        "            loss = compute_loss(y, y_pred)\n",
        "            print(f\"Epoch {i}: Loss = {loss:.4f}\")\n",
        "\n",
        "    return weights\n",
        "\n",
        "# Train the model\n",
        "weights = train(X, y, weights)\n",
        "\n",
        "# Predictions\n",
        "y_pred = sigmoid(np.dot(X, weights)) >= 0.5\n",
        "accuracy = np.mean(y_pred == y)\n",
        "print(f\"Final Accuracy: {accuracy:.4f}\")"
      ],
      "metadata": {
        "colab": {
          "base_uri": "https://localhost:8080/"
        },
        "id": "RSx-qHkz6b-I",
        "outputId": "2968abbd-17da-4589-e50b-fda21f34e145"
      },
      "execution_count": null,
      "outputs": [
        {
          "output_type": "stream",
          "name": "stdout",
          "text": [
            "Epoch 0: Loss = 0.6931\n",
            "Epoch 100: Loss = 0.0987\n",
            "Epoch 200: Loss = 0.0868\n",
            "Epoch 300: Loss = 0.0829\n",
            "Epoch 400: Loss = 0.0809\n",
            "Epoch 500: Loss = 0.0796\n",
            "Epoch 600: Loss = 0.0788\n",
            "Epoch 700: Loss = 0.0781\n",
            "Epoch 800: Loss = 0.0777\n",
            "Epoch 900: Loss = 0.0773\n",
            "Final Accuracy: 0.9707\n"
          ]
        }
      ]
    },
    {
      "cell_type": "code",
      "source": [],
      "metadata": {
        "id": "EZYcTl4LM85l"
      },
      "execution_count": null,
      "outputs": []
    }
  ]
}